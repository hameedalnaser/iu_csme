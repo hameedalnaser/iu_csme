{
 "cells": [
  {
   "cell_type": "markdown",
   "metadata": {},
   "source": [
    "# Deployment\n",
    "## these models can be deployed on a server and APIs can be used to contact with it and get the predictions from it.\n",
    "### in this section the models will be built as a deployment status, the input will be only the date and the maximum temperature while the output will be the number of calls and the number of sby_need"
   ]
  },
  {
   "cell_type": "code",
   "execution_count": 47,
   "metadata": {},
   "outputs": [],
   "source": [
    "from datetime import date, datetime\n",
    "import xgboost as xgb\n",
    "import pandas as pd"
   ]
  },
  {
   "cell_type": "code",
   "execution_count": 48,
   "metadata": {},
   "outputs": [
    {
     "data": {
      "text/plain": [
       "XGBRegressor(base_score=0.05, booster='gbtree', callbacks=None,\n",
       "             colsample_bylevel=1, colsample_bynode=1, colsample_bytree=1,\n",
       "             early_stopping_rounds=None, enable_categorical=False,\n",
       "             eval_metric=None,\n",
       "             feature_types=['int', 'int', 'int', 'int', 'int', 'int', 'int',\n",
       "                            'float'],\n",
       "             gamma=0, gpu_id=-1, grow_policy='depthwise', importance_type=None,\n",
       "             interaction_constraints='', learning_rate=0.001, max_bin=256,\n",
       "             max_cat_threshold=64, max_cat_to_onehot=4, max_delta_step=0,\n",
       "             max_depth=3, max_leaves=0, min_child_weight=1, missing=nan,\n",
       "             monotone_constraints='()', n_estimators=100000, n_jobs=0,\n",
       "             num_parallel_tree=1, predictor='auto', random_state=0, ...)"
      ]
     },
     "execution_count": 48,
     "metadata": {},
     "output_type": "execute_result"
    }
   ],
   "source": [
    "# loading the calls prediction model\n",
    "reg_new = xgb.XGBRegressor()\n",
    "reg_new.load_model('XGBmodeReport.json')\n",
    "reg_new"
   ]
  },
  {
   "cell_type": "code",
   "execution_count": 49,
   "metadata": {},
   "outputs": [],
   "source": [
    "# define the model\n",
    "def Berlin_model(df):\n",
    "    df['dayofweek'] = df.index.dayofweek\n",
    "    df['quarter'] = df.index.quarter\n",
    "    df['month'] = df.index.month\n",
    "    df['year'] = df.index.year\n",
    "    df['dayofyear'] = df.index.dayofyear\n",
    "    df['dayofmonth'] = df.index.day\n",
    "    df['weekofyear'] = df.index.week\n",
    "    FEATURES = ['weekofyear','dayofyear','dayofweek', 'month', 'year','quarter','dayofmonth','temp_max']\n",
    "    input_df = pd.DataFrame()\n",
    "    input_df = df[FEATURES]\n",
    "    df['calls']=reg_new.predict(input_df)\n",
    "    df.loc[df['calls'] <= 9102, 'sby_need']=0\n",
    "    df.loc[df['calls'] > 9102, 'sby_need']= (0.198 * df['calls'] -1802)\n",
    "    return df"
   ]
  },
  {
   "cell_type": "code",
   "execution_count": 50,
   "metadata": {},
   "outputs": [
    {
     "data": {
      "text/html": [
       "<div>\n",
       "<style scoped>\n",
       "    .dataframe tbody tr th:only-of-type {\n",
       "        vertical-align: middle;\n",
       "    }\n",
       "\n",
       "    .dataframe tbody tr th {\n",
       "        vertical-align: top;\n",
       "    }\n",
       "\n",
       "    .dataframe thead th {\n",
       "        text-align: right;\n",
       "    }\n",
       "</style>\n",
       "<table border=\"1\" class=\"dataframe\">\n",
       "  <thead>\n",
       "    <tr style=\"text-align: right;\">\n",
       "      <th></th>\n",
       "      <th>temp_max</th>\n",
       "    </tr>\n",
       "  </thead>\n",
       "  <tbody>\n",
       "    <tr>\n",
       "      <th>2019-08-01</th>\n",
       "      <td>5</td>\n",
       "    </tr>\n",
       "    <tr>\n",
       "      <th>2019-08-02</th>\n",
       "      <td>7</td>\n",
       "    </tr>\n",
       "    <tr>\n",
       "      <th>2019-08-03</th>\n",
       "      <td>9</td>\n",
       "    </tr>\n",
       "    <tr>\n",
       "      <th>2019-08-04</th>\n",
       "      <td>15</td>\n",
       "    </tr>\n",
       "    <tr>\n",
       "      <th>2019-08-05</th>\n",
       "      <td>21</td>\n",
       "    </tr>\n",
       "  </tbody>\n",
       "</table>\n",
       "</div>"
      ],
      "text/plain": [
       "            temp_max\n",
       "2019-08-01         5\n",
       "2019-08-02         7\n",
       "2019-08-03         9\n",
       "2019-08-04        15\n",
       "2019-08-05        21"
      ]
     },
     "execution_count": 50,
     "metadata": {},
     "output_type": "execute_result"
    }
   ],
   "source": [
    "# preparing input data\n",
    "input_df = pd.date_range('2019-08-01','2019-08-05', freq='1d')\n",
    "df = pd.DataFrame(index=input_df)\n",
    "df['temp_max']=[5,7,9,15,21]\n",
    "df"
   ]
  },
  {
   "cell_type": "code",
   "execution_count": 51,
   "metadata": {},
   "outputs": [
    {
     "name": "stderr",
     "output_type": "stream",
     "text": [
      "<ipython-input-49-57cbfbacf067>:9: FutureWarning: weekofyear and week have been deprecated, please use DatetimeIndex.isocalendar().week instead, which returns a Series.  To exactly reproduce the behavior of week and weekofyear and return an Index, you may call pd.Int64Index(idx.isocalendar().week)\n",
      "  df['weekofyear'] = df.index.week\n"
     ]
    },
    {
     "data": {
      "text/html": [
       "<div>\n",
       "<style scoped>\n",
       "    .dataframe tbody tr th:only-of-type {\n",
       "        vertical-align: middle;\n",
       "    }\n",
       "\n",
       "    .dataframe tbody tr th {\n",
       "        vertical-align: top;\n",
       "    }\n",
       "\n",
       "    .dataframe thead th {\n",
       "        text-align: right;\n",
       "    }\n",
       "</style>\n",
       "<table border=\"1\" class=\"dataframe\">\n",
       "  <thead>\n",
       "    <tr style=\"text-align: right;\">\n",
       "      <th></th>\n",
       "      <th>temp_max</th>\n",
       "      <th>dayofweek</th>\n",
       "      <th>quarter</th>\n",
       "      <th>month</th>\n",
       "      <th>year</th>\n",
       "      <th>dayofyear</th>\n",
       "      <th>dayofmonth</th>\n",
       "      <th>weekofyear</th>\n",
       "      <th>calls</th>\n",
       "      <th>sby_need</th>\n",
       "    </tr>\n",
       "  </thead>\n",
       "  <tbody>\n",
       "    <tr>\n",
       "      <th>2019-08-01</th>\n",
       "      <td>5</td>\n",
       "      <td>3</td>\n",
       "      <td>3</td>\n",
       "      <td>8</td>\n",
       "      <td>2019</td>\n",
       "      <td>213</td>\n",
       "      <td>1</td>\n",
       "      <td>31</td>\n",
       "      <td>9666.343750</td>\n",
       "      <td>111.936035</td>\n",
       "    </tr>\n",
       "    <tr>\n",
       "      <th>2019-08-02</th>\n",
       "      <td>7</td>\n",
       "      <td>4</td>\n",
       "      <td>3</td>\n",
       "      <td>8</td>\n",
       "      <td>2019</td>\n",
       "      <td>214</td>\n",
       "      <td>2</td>\n",
       "      <td>31</td>\n",
       "      <td>9765.407227</td>\n",
       "      <td>131.550659</td>\n",
       "    </tr>\n",
       "    <tr>\n",
       "      <th>2019-08-03</th>\n",
       "      <td>9</td>\n",
       "      <td>5</td>\n",
       "      <td>3</td>\n",
       "      <td>8</td>\n",
       "      <td>2019</td>\n",
       "      <td>215</td>\n",
       "      <td>3</td>\n",
       "      <td>31</td>\n",
       "      <td>9399.261719</td>\n",
       "      <td>59.053833</td>\n",
       "    </tr>\n",
       "    <tr>\n",
       "      <th>2019-08-04</th>\n",
       "      <td>15</td>\n",
       "      <td>6</td>\n",
       "      <td>3</td>\n",
       "      <td>8</td>\n",
       "      <td>2019</td>\n",
       "      <td>216</td>\n",
       "      <td>4</td>\n",
       "      <td>31</td>\n",
       "      <td>9197.221680</td>\n",
       "      <td>19.049927</td>\n",
       "    </tr>\n",
       "    <tr>\n",
       "      <th>2019-08-05</th>\n",
       "      <td>21</td>\n",
       "      <td>0</td>\n",
       "      <td>3</td>\n",
       "      <td>8</td>\n",
       "      <td>2019</td>\n",
       "      <td>217</td>\n",
       "      <td>5</td>\n",
       "      <td>32</td>\n",
       "      <td>10392.451172</td>\n",
       "      <td>255.705322</td>\n",
       "    </tr>\n",
       "  </tbody>\n",
       "</table>\n",
       "</div>"
      ],
      "text/plain": [
       "            temp_max  dayofweek  quarter  month  year  dayofyear  dayofmonth  \\\n",
       "2019-08-01         5          3        3      8  2019        213           1   \n",
       "2019-08-02         7          4        3      8  2019        214           2   \n",
       "2019-08-03         9          5        3      8  2019        215           3   \n",
       "2019-08-04        15          6        3      8  2019        216           4   \n",
       "2019-08-05        21          0        3      8  2019        217           5   \n",
       "\n",
       "            weekofyear         calls    sby_need  \n",
       "2019-08-01          31   9666.343750  111.936035  \n",
       "2019-08-02          31   9765.407227  131.550659  \n",
       "2019-08-03          31   9399.261719   59.053833  \n",
       "2019-08-04          31   9197.221680   19.049927  \n",
       "2019-08-05          32  10392.451172  255.705322  "
      ]
     },
     "execution_count": 51,
     "metadata": {},
     "output_type": "execute_result"
    }
   ],
   "source": [
    "# testing the model\n",
    "Berlin_model(future_df)\n"
   ]
  },
  {
   "cell_type": "markdown",
   "metadata": {},
   "source": [
    "## done"
   ]
  },
  {
   "cell_type": "code",
   "execution_count": null,
   "metadata": {},
   "outputs": [],
   "source": []
  }
 ],
 "metadata": {
  "kernelspec": {
   "display_name": "Python 3",
   "language": "python",
   "name": "python3"
  },
  "language_info": {
   "codemirror_mode": {
    "name": "ipython",
    "version": 3
   },
   "file_extension": ".py",
   "mimetype": "text/x-python",
   "name": "python",
   "nbconvert_exporter": "python",
   "pygments_lexer": "ipython3",
   "version": "3.8.5"
  }
 },
 "nbformat": 4,
 "nbformat_minor": 4
}
